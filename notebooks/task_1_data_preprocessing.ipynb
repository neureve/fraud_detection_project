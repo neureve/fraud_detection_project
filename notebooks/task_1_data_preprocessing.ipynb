{
 "cells": [
  {
   "cell_type": "code",
   "execution_count": 1,
   "id": "b978a234",
   "metadata": {},
   "outputs": [
    {
     "name": "stdout",
     "output_type": "stream",
     "text": [
      "Shape of the dataset: (151112, 11)\n"
     ]
    },
    {
     "data": {
      "text/html": [
       "<div>\n",
       "<style scoped>\n",
       "    .dataframe tbody tr th:only-of-type {\n",
       "        vertical-align: middle;\n",
       "    }\n",
       "\n",
       "    .dataframe tbody tr th {\n",
       "        vertical-align: top;\n",
       "    }\n",
       "\n",
       "    .dataframe thead th {\n",
       "        text-align: right;\n",
       "    }\n",
       "</style>\n",
       "<table border=\"1\" class=\"dataframe\">\n",
       "  <thead>\n",
       "    <tr style=\"text-align: right;\">\n",
       "      <th></th>\n",
       "      <th>user_id</th>\n",
       "      <th>signup_time</th>\n",
       "      <th>purchase_time</th>\n",
       "      <th>purchase_value</th>\n",
       "      <th>device_id</th>\n",
       "      <th>source</th>\n",
       "      <th>browser</th>\n",
       "      <th>sex</th>\n",
       "      <th>age</th>\n",
       "      <th>ip_address</th>\n",
       "      <th>class</th>\n",
       "    </tr>\n",
       "  </thead>\n",
       "  <tbody>\n",
       "    <tr>\n",
       "      <th>0</th>\n",
       "      <td>22058</td>\n",
       "      <td>2015-02-24 22:55:49</td>\n",
       "      <td>2015-04-18 02:47:11</td>\n",
       "      <td>34</td>\n",
       "      <td>QVPSPJUOCKZAR</td>\n",
       "      <td>SEO</td>\n",
       "      <td>Chrome</td>\n",
       "      <td>M</td>\n",
       "      <td>39</td>\n",
       "      <td>7.327584e+08</td>\n",
       "      <td>0</td>\n",
       "    </tr>\n",
       "    <tr>\n",
       "      <th>1</th>\n",
       "      <td>333320</td>\n",
       "      <td>2015-06-07 20:39:50</td>\n",
       "      <td>2015-06-08 01:38:54</td>\n",
       "      <td>16</td>\n",
       "      <td>EOGFQPIZPYXFZ</td>\n",
       "      <td>Ads</td>\n",
       "      <td>Chrome</td>\n",
       "      <td>F</td>\n",
       "      <td>53</td>\n",
       "      <td>3.503114e+08</td>\n",
       "      <td>0</td>\n",
       "    </tr>\n",
       "    <tr>\n",
       "      <th>2</th>\n",
       "      <td>1359</td>\n",
       "      <td>2015-01-01 18:52:44</td>\n",
       "      <td>2015-01-01 18:52:45</td>\n",
       "      <td>15</td>\n",
       "      <td>YSSKYOSJHPPLJ</td>\n",
       "      <td>SEO</td>\n",
       "      <td>Opera</td>\n",
       "      <td>M</td>\n",
       "      <td>53</td>\n",
       "      <td>2.621474e+09</td>\n",
       "      <td>1</td>\n",
       "    </tr>\n",
       "    <tr>\n",
       "      <th>3</th>\n",
       "      <td>150084</td>\n",
       "      <td>2015-04-28 21:13:25</td>\n",
       "      <td>2015-05-04 13:54:50</td>\n",
       "      <td>44</td>\n",
       "      <td>ATGTXKYKUDUQN</td>\n",
       "      <td>SEO</td>\n",
       "      <td>Safari</td>\n",
       "      <td>M</td>\n",
       "      <td>41</td>\n",
       "      <td>3.840542e+09</td>\n",
       "      <td>0</td>\n",
       "    </tr>\n",
       "    <tr>\n",
       "      <th>4</th>\n",
       "      <td>221365</td>\n",
       "      <td>2015-07-21 07:09:52</td>\n",
       "      <td>2015-09-09 18:40:53</td>\n",
       "      <td>39</td>\n",
       "      <td>NAUITBZFJKHWW</td>\n",
       "      <td>Ads</td>\n",
       "      <td>Safari</td>\n",
       "      <td>M</td>\n",
       "      <td>45</td>\n",
       "      <td>4.155831e+08</td>\n",
       "      <td>0</td>\n",
       "    </tr>\n",
       "  </tbody>\n",
       "</table>\n",
       "</div>"
      ],
      "text/plain": [
       "   user_id          signup_time        purchase_time  purchase_value  \\\n",
       "0    22058  2015-02-24 22:55:49  2015-04-18 02:47:11              34   \n",
       "1   333320  2015-06-07 20:39:50  2015-06-08 01:38:54              16   \n",
       "2     1359  2015-01-01 18:52:44  2015-01-01 18:52:45              15   \n",
       "3   150084  2015-04-28 21:13:25  2015-05-04 13:54:50              44   \n",
       "4   221365  2015-07-21 07:09:52  2015-09-09 18:40:53              39   \n",
       "\n",
       "       device_id source browser sex  age    ip_address  class  \n",
       "0  QVPSPJUOCKZAR    SEO  Chrome   M   39  7.327584e+08      0  \n",
       "1  EOGFQPIZPYXFZ    Ads  Chrome   F   53  3.503114e+08      0  \n",
       "2  YSSKYOSJHPPLJ    SEO   Opera   M   53  2.621474e+09      1  \n",
       "3  ATGTXKYKUDUQN    SEO  Safari   M   41  3.840542e+09      0  \n",
       "4  NAUITBZFJKHWW    Ads  Safari   M   45  4.155831e+08      0  "
      ]
     },
     "execution_count": 1,
     "metadata": {},
     "output_type": "execute_result"
    }
   ],
   "source": [
    "# Step 1: Load libraries\n",
    "import pandas as pd\n",
    "import numpy as np\n",
    "import matplotlib.pyplot as plt\n",
    "import seaborn as sns\n",
    "\n",
    "# Display settings\n",
    "pd.set_option('display.max_columns', None)\n",
    "sns.set(style=\"whitegrid\")\n",
    "\n",
    "# Step 2: Load the data\n",
    "file_path = '../data/Fraud_Data.csv'  # Adjust if you're running from another path\n",
    "df = pd.read_csv(file_path)\n",
    "\n",
    "# Step 3: Show basic info\n",
    "print(\"Shape of the dataset:\", df.shape)\n",
    "df.head()\n"
   ]
  },
  {
   "cell_type": "code",
   "execution_count": 2,
   "id": "f861ae8a",
   "metadata": {},
   "outputs": [
    {
     "data": {
      "text/plain": [
       "Series([], dtype: int64)"
      ]
     },
     "execution_count": 2,
     "metadata": {},
     "output_type": "execute_result"
    }
   ],
   "source": [
    "# Check for missing values\n",
    "missing = df.isnull().sum()\n",
    "missing[missing > 0]\n"
   ]
  },
  {
   "cell_type": "code",
   "execution_count": 4,
   "id": "298ab38f",
   "metadata": {},
   "outputs": [
    {
     "name": "stdout",
     "output_type": "stream",
     "text": [
      "Number of duplicate rows: 0\n",
      "\n",
      "Data types:\n",
      "user_id             int64\n",
      "signup_time        object\n",
      "purchase_time      object\n",
      "purchase_value      int64\n",
      "device_id          object\n",
      "source             object\n",
      "browser            object\n",
      "sex                object\n",
      "age                 int64\n",
      "ip_address        float64\n",
      "class               int64\n",
      "dtype: object\n",
      "\n",
      "Data types after conversion:\n",
      "user_id                    int64\n",
      "signup_time       datetime64[ns]\n",
      "purchase_time     datetime64[ns]\n",
      "purchase_value             int64\n",
      "device_id                 object\n",
      "source                    object\n",
      "browser                   object\n",
      "sex                       object\n",
      "age                        int64\n",
      "ip_address               float64\n",
      "class                      int64\n",
      "dtype: object\n"
     ]
    },
    {
     "data": {
      "text/html": [
       "<div>\n",
       "<style scoped>\n",
       "    .dataframe tbody tr th:only-of-type {\n",
       "        vertical-align: middle;\n",
       "    }\n",
       "\n",
       "    .dataframe tbody tr th {\n",
       "        vertical-align: top;\n",
       "    }\n",
       "\n",
       "    .dataframe thead th {\n",
       "        text-align: right;\n",
       "    }\n",
       "</style>\n",
       "<table border=\"1\" class=\"dataframe\">\n",
       "  <thead>\n",
       "    <tr style=\"text-align: right;\">\n",
       "      <th></th>\n",
       "      <th>user_id</th>\n",
       "      <th>signup_time</th>\n",
       "      <th>purchase_time</th>\n",
       "      <th>purchase_value</th>\n",
       "      <th>device_id</th>\n",
       "      <th>source</th>\n",
       "      <th>browser</th>\n",
       "      <th>sex</th>\n",
       "      <th>age</th>\n",
       "      <th>ip_address</th>\n",
       "      <th>class</th>\n",
       "    </tr>\n",
       "  </thead>\n",
       "  <tbody>\n",
       "    <tr>\n",
       "      <th>count</th>\n",
       "      <td>151112.000000</td>\n",
       "      <td>151112</td>\n",
       "      <td>151112</td>\n",
       "      <td>151112.000000</td>\n",
       "      <td>151112</td>\n",
       "      <td>151112</td>\n",
       "      <td>151112</td>\n",
       "      <td>151112</td>\n",
       "      <td>151112.000000</td>\n",
       "      <td>1.511120e+05</td>\n",
       "      <td>151112.000000</td>\n",
       "    </tr>\n",
       "    <tr>\n",
       "      <th>unique</th>\n",
       "      <td>NaN</td>\n",
       "      <td>NaN</td>\n",
       "      <td>NaN</td>\n",
       "      <td>NaN</td>\n",
       "      <td>137956</td>\n",
       "      <td>3</td>\n",
       "      <td>5</td>\n",
       "      <td>2</td>\n",
       "      <td>NaN</td>\n",
       "      <td>NaN</td>\n",
       "      <td>NaN</td>\n",
       "    </tr>\n",
       "    <tr>\n",
       "      <th>top</th>\n",
       "      <td>NaN</td>\n",
       "      <td>NaN</td>\n",
       "      <td>NaN</td>\n",
       "      <td>NaN</td>\n",
       "      <td>ITUMJCKWEYNDD</td>\n",
       "      <td>SEO</td>\n",
       "      <td>Chrome</td>\n",
       "      <td>M</td>\n",
       "      <td>NaN</td>\n",
       "      <td>NaN</td>\n",
       "      <td>NaN</td>\n",
       "    </tr>\n",
       "    <tr>\n",
       "      <th>freq</th>\n",
       "      <td>NaN</td>\n",
       "      <td>NaN</td>\n",
       "      <td>NaN</td>\n",
       "      <td>NaN</td>\n",
       "      <td>20</td>\n",
       "      <td>60615</td>\n",
       "      <td>61432</td>\n",
       "      <td>88293</td>\n",
       "      <td>NaN</td>\n",
       "      <td>NaN</td>\n",
       "      <td>NaN</td>\n",
       "    </tr>\n",
       "    <tr>\n",
       "      <th>mean</th>\n",
       "      <td>200171.040970</td>\n",
       "      <td>2015-04-20 00:56:09.511329280</td>\n",
       "      <td>2015-06-16 02:56:38.759952896</td>\n",
       "      <td>36.935372</td>\n",
       "      <td>NaN</td>\n",
       "      <td>NaN</td>\n",
       "      <td>NaN</td>\n",
       "      <td>NaN</td>\n",
       "      <td>33.140704</td>\n",
       "      <td>2.152145e+09</td>\n",
       "      <td>0.093646</td>\n",
       "    </tr>\n",
       "    <tr>\n",
       "      <th>min</th>\n",
       "      <td>2.000000</td>\n",
       "      <td>2015-01-01 00:00:42</td>\n",
       "      <td>2015-01-01 00:00:44</td>\n",
       "      <td>9.000000</td>\n",
       "      <td>NaN</td>\n",
       "      <td>NaN</td>\n",
       "      <td>NaN</td>\n",
       "      <td>NaN</td>\n",
       "      <td>18.000000</td>\n",
       "      <td>5.209350e+04</td>\n",
       "      <td>0.000000</td>\n",
       "    </tr>\n",
       "    <tr>\n",
       "      <th>25%</th>\n",
       "      <td>100642.500000</td>\n",
       "      <td>2015-02-18 09:52:48.500000</td>\n",
       "      <td>2015-04-18 14:41:25.500000</td>\n",
       "      <td>22.000000</td>\n",
       "      <td>NaN</td>\n",
       "      <td>NaN</td>\n",
       "      <td>NaN</td>\n",
       "      <td>NaN</td>\n",
       "      <td>27.000000</td>\n",
       "      <td>1.085934e+09</td>\n",
       "      <td>0.000000</td>\n",
       "    </tr>\n",
       "    <tr>\n",
       "      <th>50%</th>\n",
       "      <td>199958.000000</td>\n",
       "      <td>2015-04-19 04:41:30</td>\n",
       "      <td>2015-06-18 13:46:17.500000</td>\n",
       "      <td>35.000000</td>\n",
       "      <td>NaN</td>\n",
       "      <td>NaN</td>\n",
       "      <td>NaN</td>\n",
       "      <td>NaN</td>\n",
       "      <td>33.000000</td>\n",
       "      <td>2.154770e+09</td>\n",
       "      <td>0.000000</td>\n",
       "    </tr>\n",
       "    <tr>\n",
       "      <th>75%</th>\n",
       "      <td>300054.000000</td>\n",
       "      <td>2015-06-18 14:47:22.750000128</td>\n",
       "      <td>2015-08-17 18:48:31.500000</td>\n",
       "      <td>49.000000</td>\n",
       "      <td>NaN</td>\n",
       "      <td>NaN</td>\n",
       "      <td>NaN</td>\n",
       "      <td>NaN</td>\n",
       "      <td>39.000000</td>\n",
       "      <td>3.243258e+09</td>\n",
       "      <td>0.000000</td>\n",
       "    </tr>\n",
       "    <tr>\n",
       "      <th>max</th>\n",
       "      <td>400000.000000</td>\n",
       "      <td>2015-08-18 04:40:29</td>\n",
       "      <td>2015-12-16 02:56:05</td>\n",
       "      <td>154.000000</td>\n",
       "      <td>NaN</td>\n",
       "      <td>NaN</td>\n",
       "      <td>NaN</td>\n",
       "      <td>NaN</td>\n",
       "      <td>76.000000</td>\n",
       "      <td>4.294850e+09</td>\n",
       "      <td>1.000000</td>\n",
       "    </tr>\n",
       "    <tr>\n",
       "      <th>std</th>\n",
       "      <td>115369.285024</td>\n",
       "      <td>NaN</td>\n",
       "      <td>NaN</td>\n",
       "      <td>18.322762</td>\n",
       "      <td>NaN</td>\n",
       "      <td>NaN</td>\n",
       "      <td>NaN</td>\n",
       "      <td>NaN</td>\n",
       "      <td>8.617733</td>\n",
       "      <td>1.248497e+09</td>\n",
       "      <td>0.291336</td>\n",
       "    </tr>\n",
       "  </tbody>\n",
       "</table>\n",
       "</div>"
      ],
      "text/plain": [
       "              user_id                    signup_time  \\\n",
       "count   151112.000000                         151112   \n",
       "unique            NaN                            NaN   \n",
       "top               NaN                            NaN   \n",
       "freq              NaN                            NaN   \n",
       "mean    200171.040970  2015-04-20 00:56:09.511329280   \n",
       "min          2.000000            2015-01-01 00:00:42   \n",
       "25%     100642.500000     2015-02-18 09:52:48.500000   \n",
       "50%     199958.000000            2015-04-19 04:41:30   \n",
       "75%     300054.000000  2015-06-18 14:47:22.750000128   \n",
       "max     400000.000000            2015-08-18 04:40:29   \n",
       "std     115369.285024                            NaN   \n",
       "\n",
       "                        purchase_time  purchase_value      device_id  source  \\\n",
       "count                          151112   151112.000000         151112  151112   \n",
       "unique                            NaN             NaN         137956       3   \n",
       "top                               NaN             NaN  ITUMJCKWEYNDD     SEO   \n",
       "freq                              NaN             NaN             20   60615   \n",
       "mean    2015-06-16 02:56:38.759952896       36.935372            NaN     NaN   \n",
       "min               2015-01-01 00:00:44        9.000000            NaN     NaN   \n",
       "25%        2015-04-18 14:41:25.500000       22.000000            NaN     NaN   \n",
       "50%        2015-06-18 13:46:17.500000       35.000000            NaN     NaN   \n",
       "75%        2015-08-17 18:48:31.500000       49.000000            NaN     NaN   \n",
       "max               2015-12-16 02:56:05      154.000000            NaN     NaN   \n",
       "std                               NaN       18.322762            NaN     NaN   \n",
       "\n",
       "       browser     sex            age    ip_address          class  \n",
       "count   151112  151112  151112.000000  1.511120e+05  151112.000000  \n",
       "unique       5       2            NaN           NaN            NaN  \n",
       "top     Chrome       M            NaN           NaN            NaN  \n",
       "freq     61432   88293            NaN           NaN            NaN  \n",
       "mean       NaN     NaN      33.140704  2.152145e+09       0.093646  \n",
       "min        NaN     NaN      18.000000  5.209350e+04       0.000000  \n",
       "25%        NaN     NaN      27.000000  1.085934e+09       0.000000  \n",
       "50%        NaN     NaN      33.000000  2.154770e+09       0.000000  \n",
       "75%        NaN     NaN      39.000000  3.243258e+09       0.000000  \n",
       "max        NaN     NaN      76.000000  4.294850e+09       1.000000  \n",
       "std        NaN     NaN       8.617733  1.248497e+09       0.291336  "
      ]
     },
     "execution_count": 4,
     "metadata": {},
     "output_type": "execute_result"
    }
   ],
   "source": [
    "# Step 3.1: Check for duplicates\n",
    "duplicates = df.duplicated().sum()\n",
    "print(f\"Number of duplicate rows: {duplicates}\")\n",
    "\n",
    "# Drop duplicates if any\n",
    "df = df.drop_duplicates()\n",
    "\n",
    "# Step 3.2: Check data types\n",
    "print(\"\\nData types:\")\n",
    "print(df.dtypes)\n",
    "\n",
    "# Convert signup_time and purchase_time to datetime\n",
    "df['signup_time'] = pd.to_datetime(df['signup_time'])\n",
    "df['purchase_time'] = pd.to_datetime(df['purchase_time'])\n",
    "\n",
    "# Confirm changes\n",
    "print(\"\\nData types after conversion:\")\n",
    "print(df.dtypes)\n",
    "\n",
    "# Step 3.3: Preview summary stats\n",
    "df.describe(include='all')\n"
   ]
  },
  {
   "cell_type": "code",
   "execution_count": 5,
   "id": "77598778",
   "metadata": {},
   "outputs": [
    {
     "data": {
      "image/png": "[encoded data removed]",
      "text/plain": [
       "<Figure size 800x400 with 1 Axes>"
      ]
     },
     "metadata": {},
     "output_type": "display_data"
    },
    {
     "data": {
      "image/png": "[encoded data removed]",
      "text/plain": [
       "<Figure size 800x400 with 1 Axes>"
      ]
     },
     "metadata": {},
     "output_type": "display_data"
    }
   ],
   "source": [
    "# Plot purchase value distribution\n",
    "plt.figure(figsize=(8, 4))\n",
    "sns.histplot(df['purchase_value'], bins=50, kde=True)\n",
    "plt.title('Purchase Value Distribution')\n",
    "plt.xlabel('Purchase Value')\n",
    "plt.ylabel('Frequency')\n",
    "plt.show()\n",
    "\n",
    "# Plot age distribution\n",
    "plt.figure(figsize=(8, 4))\n",
    "sns.histplot(df['age'], bins=30, kde=True)\n",
    "plt.title('Age Distribution')\n",
    "plt.xlabel('Age')\n",
    "plt.ylabel('Frequency')\n",
    "plt.show()\n"
   ]
  },
  {
   "cell_type": "code",
   "execution_count": 6,
   "id": "862fdb4f",
   "metadata": {},
   "outputs": [
    {
     "data": {
      "image/png": "[encoded data removed]",
      "text/plain": [
       "<Figure size 600x400 with 1 Axes>"
      ]
     },
     "metadata": {},
     "output_type": "display_data"
    },
    {
     "data": {
      "image/png": "[encoded data removed]",
      "text/plain": [
       "<Figure size 600x400 with 1 Axes>"
      ]
     },
     "metadata": {},
     "output_type": "display_data"
    },
    {
     "data": {
      "image/png": "[encoded data removed]",
      "text/plain": [
       "<Figure size 600x400 with 1 Axes>"
      ]
     },
     "metadata": {},
     "output_type": "display_data"
    }
   ],
   "source": [
    "# Bar plots for categorical features\n",
    "categorical = ['source', 'browser', 'sex']\n",
    "\n",
    "for col in categorical:\n",
    "    plt.figure(figsize=(6, 4))\n",
    "    sns.countplot(x=col, data=df)\n",
    "    plt.title(f'Distribution of {col}')\n",
    "    plt.xticks(rotation=45)\n",
    "    plt.show()\n"
   ]
  },
  {
   "cell_type": "code",
   "execution_count": 7,
   "id": "3a9a9c2d",
   "metadata": {},
   "outputs": [
    {
     "name": "stdout",
     "output_type": "stream",
     "text": [
      "class\n",
      "0    136961\n",
      "1     14151\n",
      "Name: count, dtype: int64\n"
     ]
    },
    {
     "data": {
      "image/png": "[encoded data removed]",
      "text/plain": [
       "<Figure size 500x300 with 1 Axes>"
      ]
     },
     "metadata": {},
     "output_type": "display_data"
    }
   ],
   "source": [
    "# Class distribution\n",
    "class_counts = df['class'].value_counts()\n",
    "print(class_counts)\n",
    "\n",
    "# Plot it\n",
    "plt.figure(figsize=(5, 3))\n",
    "sns.barplot(x=class_counts.index, y=class_counts.values)\n",
    "plt.title('Class Distribution')\n",
    "plt.xticks([0, 1], ['Non-Fraud (0)', 'Fraud (1)'])\n",
    "plt.ylabel('Number of Transactions')\n",
    "plt.show()\n"
   ]
  },
  {
   "cell_type": "code",
   "execution_count": 9,
   "id": "09c2cbf3",
   "metadata": {},
   "outputs": [
    {
     "data": {
      "text/html": [
       "<div>\n",
       "<style scoped>\n",
       "    .dataframe tbody tr th:only-of-type {\n",
       "        vertical-align: middle;\n",
       "    }\n",
       "\n",
       "    .dataframe tbody tr th {\n",
       "        vertical-align: top;\n",
       "    }\n",
       "\n",
       "    .dataframe thead th {\n",
       "        text-align: right;\n",
       "    }\n",
       "</style>\n",
       "<table border=\"1\" class=\"dataframe\">\n",
       "  <thead>\n",
       "    <tr style=\"text-align: right;\">\n",
       "      <th></th>\n",
       "      <th>lower_bound_ip_address</th>\n",
       "      <th>upper_bound_ip_address</th>\n",
       "      <th>country</th>\n",
       "    </tr>\n",
       "  </thead>\n",
       "  <tbody>\n",
       "    <tr>\n",
       "      <th>0</th>\n",
       "      <td>16777216.0</td>\n",
       "      <td>16777471</td>\n",
       "      <td>Australia</td>\n",
       "    </tr>\n",
       "    <tr>\n",
       "      <th>1</th>\n",
       "      <td>16777472.0</td>\n",
       "      <td>16777727</td>\n",
       "      <td>China</td>\n",
       "    </tr>\n",
       "    <tr>\n",
       "      <th>2</th>\n",
       "      <td>16777728.0</td>\n",
       "      <td>16778239</td>\n",
       "      <td>China</td>\n",
       "    </tr>\n",
       "    <tr>\n",
       "      <th>3</th>\n",
       "      <td>16778240.0</td>\n",
       "      <td>16779263</td>\n",
       "      <td>Australia</td>\n",
       "    </tr>\n",
       "    <tr>\n",
       "      <th>4</th>\n",
       "      <td>16779264.0</td>\n",
       "      <td>16781311</td>\n",
       "      <td>China</td>\n",
       "    </tr>\n",
       "  </tbody>\n",
       "</table>\n",
       "</div>"
      ],
      "text/plain": [
       "   lower_bound_ip_address  upper_bound_ip_address    country\n",
       "0              16777216.0                16777471  Australia\n",
       "1              16777472.0                16777727      China\n",
       "2              16777728.0                16778239      China\n",
       "3              16778240.0                16779263  Australia\n",
       "4              16779264.0                16781311      China"
      ]
     },
     "execution_count": 9,
     "metadata": {},
     "output_type": "execute_result"
    }
   ],
   "source": [
    "# Load IP-to-country mapping data\n",
    "ip_df = pd.read_csv('../data/IpAddress_to_Country.csv')\n",
    "ip_df.head()\n"
   ]
  },
  {
   "cell_type": "code",
   "execution_count": 11,
   "id": "8f2d0ad3",
   "metadata": {},
   "outputs": [
    {
     "data": {
      "text/html": [
       "<div>\n",
       "<style scoped>\n",
       "    .dataframe tbody tr th:only-of-type {\n",
       "        vertical-align: middle;\n",
       "    }\n",
       "\n",
       "    .dataframe tbody tr th {\n",
       "        vertical-align: top;\n",
       "    }\n",
       "\n",
       "    .dataframe thead th {\n",
       "        text-align: right;\n",
       "    }\n",
       "</style>\n",
       "<table border=\"1\" class=\"dataframe\">\n",
       "  <thead>\n",
       "    <tr style=\"text-align: right;\">\n",
       "      <th></th>\n",
       "      <th>ip_address</th>\n",
       "      <th>ip_int</th>\n",
       "    </tr>\n",
       "  </thead>\n",
       "  <tbody>\n",
       "  </tbody>\n",
       "</table>\n",
       "</div>"
      ],
      "text/plain": [
       "Empty DataFrame\n",
       "Columns: [ip_address, ip_int]\n",
       "Index: []"
      ]
     },
     "execution_count": 11,
     "metadata": {},
     "output_type": "execute_result"
    }
   ],
   "source": [
    "import ipaddress\n",
    "\n",
    "# Clean IP address column — convert to string and handle invalid ones\n",
    "def safe_ip_to_int(ip):\n",
    "    try:\n",
    "        return int(ipaddress.ip_address(str(ip).strip()))\n",
    "    except ValueError:\n",
    "        return np.nan  # mark invalid IPs as NaN\n",
    "\n",
    "# Apply safe conversion\n",
    "df['ip_int'] = df['ip_address'].apply(safe_ip_to_int)\n",
    "\n",
    "# Drop rows where IP couldn't be converted\n",
    "df = df.dropna(subset=['ip_int'])\n",
    "\n",
    "# Convert to int\n",
    "df['ip_int'] = df['ip_int'].astype(int)\n",
    "\n",
    "# Preview\n",
    "df[['ip_address', 'ip_int']].head()\n"
   ]
  },
  {
   "cell_type": "code",
   "execution_count": 12,
   "id": "54d91a7a",
   "metadata": {},
   "outputs": [
    {
     "data": {
      "text/html": [
       "<div>\n",
       "<style scoped>\n",
       "    .dataframe tbody tr th:only-of-type {\n",
       "        vertical-align: middle;\n",
       "    }\n",
       "\n",
       "    .dataframe tbody tr th {\n",
       "        vertical-align: top;\n",
       "    }\n",
       "\n",
       "    .dataframe thead th {\n",
       "        text-align: right;\n",
       "    }\n",
       "</style>\n",
       "<table border=\"1\" class=\"dataframe\">\n",
       "  <thead>\n",
       "    <tr style=\"text-align: right;\">\n",
       "      <th></th>\n",
       "      <th>ip_address</th>\n",
       "      <th>country</th>\n",
       "    </tr>\n",
       "  </thead>\n",
       "  <tbody>\n",
       "  </tbody>\n",
       "</table>\n",
       "</div>"
      ],
      "text/plain": [
       "Empty DataFrame\n",
       "Columns: [ip_address, country]\n",
       "Index: []"
      ]
     },
     "execution_count": 12,
     "metadata": {},
     "output_type": "execute_result"
    }
   ],
   "source": [
    "# Sort IP mapping data for merging\n",
    "ip_df = ip_df.sort_values(by='lower_bound_ip_address')\n",
    "\n",
    "# Merge using range lookup (vectorized with pandas' merge_asof)\n",
    "ip_df['lower_bound_ip_address'] = ip_df['lower_bound_ip_address'].astype(int)\n",
    "ip_df['upper_bound_ip_address'] = ip_df['upper_bound_ip_address'].astype(int)\n",
    "df = df.sort_values('ip_int')\n",
    "\n",
    "# Perform range join: find nearest lower_bound less than or equal to ip_int\n",
    "df = pd.merge_asof(\n",
    "    df, \n",
    "    ip_df[['lower_bound_ip_address', 'upper_bound_ip_address', 'country']], \n",
    "    left_on='ip_int', \n",
    "    right_on='lower_bound_ip_address', \n",
    "    direction='backward'\n",
    ")\n",
    "\n",
    "# Filter to only rows where ip_int is within the correct range\n",
    "df = df[df['ip_int'] <= df['upper_bound_ip_address']]\n",
    "\n",
    "# Preview\n",
    "df[['ip_address', 'country']].head()\n"
   ]
  },
  {
   "cell_type": "code",
   "execution_count": 13,
   "id": "ab8e1384",
   "metadata": {},
   "outputs": [],
   "source": [
    "# Number of previous transactions by user\n",
    "df['user_txn_count'] = df.groupby('user_id').cumcount()\n",
    "\n",
    "# Number of previous transactions by device\n",
    "df['device_txn_count'] = df.groupby('device_id').cumcount()\n"
   ]
  },
  {
   "cell_type": "code",
   "execution_count": 14,
   "id": "7e66ae02",
   "metadata": {},
   "outputs": [],
   "source": [
    "# Hour of day of the purchase\n",
    "df['hour_of_day'] = df['purchase_time'].dt.hour\n",
    "\n",
    "# Day of week of the purchase (0 = Monday, 6 = Sunday)\n",
    "df['day_of_week'] = df['purchase_time'].dt.dayofweek\n",
    "\n",
    "# Time difference in seconds between signup and purchase\n",
    "df['time_since_signup'] = (df['purchase_time'] - df['signup_time']).dt.total_seconds()\n"
   ]
  },
  {
   "cell_type": "code",
   "execution_count": 24,
   "id": "5f95ba73",
   "metadata": {},
   "outputs": [],
   "source": [
    "# Convert float IPs to integers (drop NaNs just in case)\n",
    "df['ip_int'] = df['ip_address'].apply(lambda x: int(float(x)) if pd.notnull(x) else np.nan)\n",
    "df = df.dropna(subset=['ip_int'])\n",
    "df['ip_int'] = df['ip_int'].astype(int)\n"
   ]
  },
  {
   "cell_type": "code",
   "execution_count": 28,
   "id": "0e4ee8a3",
   "metadata": {},
   "outputs": [],
   "source": [
    "# Re-read the IP-country data (to avoid partial/modified versions)\n",
    "ip_df = pd.read_csv('../data/IpAddress_to_Country.csv')\n",
    "\n",
    "# Clean and convert column types\n",
    "ip_df.columns = ip_df.columns.str.strip()\n",
    "ip_df['lower_bound_ip_address'] = ip_df['lower_bound_ip_address'].astype(int)\n",
    "ip_df['upper_bound_ip_address'] = ip_df['upper_bound_ip_address'].astype(int)\n",
    "\n",
    "# Sort for merge\n",
    "ip_df = ip_df.sort_values('lower_bound_ip_address')\n",
    "df = df.sort_values('ip_int')\n"
   ]
  },
  {
   "cell_type": "code",
   "execution_count": 29,
   "id": "5fe639ce",
   "metadata": {},
   "outputs": [
    {
     "name": "stdout",
     "output_type": "stream",
     "text": [
      "Empty DataFrame\n",
      "Columns: [ip_int, country]\n",
      "Index: []\n",
      "Remaining rows after merge: 0\n"
     ]
    }
   ],
   "source": [
    "df = pd.merge_asof(\n",
    "    df,\n",
    "    ip_df[['lower_bound_ip_address', 'upper_bound_ip_address', 'country']],\n",
    "    left_on='ip_int',\n",
    "    right_on='lower_bound_ip_address',\n",
    "    direction='backward'\n",
    ")\n",
    "\n",
    "# Filter to valid IP ranges\n",
    "df = df[df['ip_int'] <= df['upper_bound_ip_address']]\n",
    "\n",
    "# Check result\n",
    "print(df[['ip_int', 'country']].head())\n",
    "print(f\"Remaining rows after merge: {len(df)}\")\n"
   ]
  },
  {
   "cell_type": "code",
   "execution_count": 33,
   "id": "5b87e334",
   "metadata": {},
   "outputs": [],
   "source": [
    "# Sort for merge_asof\n",
    "ip_df = ip_df.sort_values('lower_bound_ip_address')\n",
    "df = df.sort_values('ip_int')\n"
   ]
  },
  {
   "cell_type": "code",
   "execution_count": 35,
   "id": "ea55db02",
   "metadata": {},
   "outputs": [],
   "source": [
    "# Drop leftover columns from previous merge attempts, if they exist\n",
    "df = df.drop(columns=[col for col in ['lower_bound_ip_address', 'upper_bound_ip_address', 'country'] if col in df.columns])\n"
   ]
  },
  {
   "cell_type": "code",
   "execution_count": 38,
   "id": "63553eb7",
   "metadata": {},
   "outputs": [],
   "source": [
    "# Step 1: Remove previous merge artifacts if they exist\n",
    "for col in ['lower_bound_ip_address', 'upper_bound_ip_address', 'country']:\n",
    "    df = df.drop(columns=[col], errors='ignore')\n"
   ]
  },
  {
   "cell_type": "code",
   "execution_count": 40,
   "id": "5641a680",
   "metadata": {},
   "outputs": [],
   "source": [
    "# Remove decimal points and convert IPs to integers\n",
    "df['ip_address'] = df['ip_address'].astype(str).str.extract(r'(\\d+)')[0].astype(float).astype(int)\n",
    "df['ip_int'] = df['ip_address']\n"
   ]
  },
  {
   "cell_type": "code",
   "execution_count": 41,
   "id": "48ec90ec",
   "metadata": {},
   "outputs": [],
   "source": [
    "ip_df['lower_bound_ip_address'] = ip_df['lower_bound_ip_address'].astype(int)\n",
    "ip_df['upper_bound_ip_address'] = ip_df['upper_bound_ip_address'].astype(int)\n"
   ]
  },
  {
   "cell_type": "code",
   "execution_count": 43,
   "id": "935ab66b",
   "metadata": {},
   "outputs": [],
   "source": [
    "# Clean up any previously merged columns that might conflict\n",
    "df = df.drop(columns=[\n",
    "    'lower_bound_ip_address', \n",
    "    'upper_bound_ip_address', \n",
    "    'country'\n",
    "], errors='ignore')  # errors='ignore' avoids errors if column is missing\n"
   ]
  },
  {
   "cell_type": "code",
   "execution_count": 44,
   "id": "74c69ecd",
   "metadata": {},
   "outputs": [
    {
     "name": "stdout",
     "output_type": "stream",
     "text": [
      "Empty DataFrame\n",
      "Columns: [ip_int, country]\n",
      "Index: []\n",
      "Remaining rows after merge: 0\n"
     ]
    }
   ],
   "source": [
    "# Sort both DataFrames for merge_asof\n",
    "df = df.sort_values('ip_int')\n",
    "ip_df = ip_df.sort_values('lower_bound_ip_address')\n",
    "\n",
    "# Merge IP data using merge_asof\n",
    "df = pd.merge_asof(\n",
    "    df,\n",
    "    ip_df[['lower_bound_ip_address', 'upper_bound_ip_address', 'country']],\n",
    "    left_on='ip_int',\n",
    "    right_on='lower_bound_ip_address',\n",
    "    direction='backward'\n",
    ")\n",
    "\n",
    "# Filter to ensure ip_int is within range\n",
    "df = df[df['ip_int'] <= df['upper_bound_ip_address']]\n",
    "\n",
    "# Confirm it's working\n",
    "print(df[['ip_int', 'country']].head())\n",
    "print(f\"Remaining rows after merge: {len(df)}\")\n"
   ]
  }
 ],
 "metadata": {
  "kernelspec": {
   "display_name": "venv",
   "language": "python",
   "name": "python3"
  },
  "language_info": {
   "codemirror_mode": {
    "name": "ipython",
    "version": 3
   },
   "file_extension": ".py",
   "mimetype": "text/x-python",
   "name": "python",
   "nbconvert_exporter": "python",
   "pygments_lexer": "ipython3",
   "version": "3.13.5"
  }
 },
 "nbformat": 4,
 "nbformat_minor": 5
}
